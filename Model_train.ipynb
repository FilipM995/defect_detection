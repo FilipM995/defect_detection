{
 "cells": [
  {
   "cell_type": "code",
   "execution_count": null,
   "id": "dbf385bf-5cb4-43d3-adfe-2ef39a980c36",
   "metadata": {},
   "outputs": [],
   "source": [
    "%run train.py --input-channels 3 --base-path /path/to/data --dataset-json-path /path/to/dataset.json --train-percentage 0.8 --height 128 --width 128 --dil-ksize 3 --mixed-sup-N 100 --dist-trans-w 1.0 --dist-trans-p 1.0 --shuffle-buf-size 1000 --batch-size 32 --optimizer adam --learning-rate 0.001 --learning-decay False --epochs 10 --delta 0.5 --log-interval 1 --test-on-cpu False --output-path /path/to/save/models"
   ]
  }
 ],
 "metadata": {
  "kernelspec": {
   "display_name": "Python 3 (ipykernel)",
   "language": "python",
   "name": "python3"
  },
  "language_info": {
   "codemirror_mode": {
    "name": "ipython",
    "version": 3
   },
   "file_extension": ".py",
   "mimetype": "text/x-python",
   "name": "python",
   "nbconvert_exporter": "python",
   "pygments_lexer": "ipython3",
   "version": "3.10.13"
  }
 },
 "nbformat": 4,
 "nbformat_minor": 5
}
